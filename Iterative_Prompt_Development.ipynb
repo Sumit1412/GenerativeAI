{
 "cells": [
  {
   "cell_type": "markdown",
   "id": "227b07af",
   "metadata": {},
   "source": [
    "# Set up your OpenAI Account\n",
    "- If you don't have an API key, sign up for OpenAI https://platform.openai.com/ and obtain one.\n",
    "- Store your API key in a secure location, such as a configuration file or environment variable."
   ]
  },
  {
   "cell_type": "markdown",
   "id": "e09e4944",
   "metadata": {},
   "source": [
    "### Install the OpenAI library"
   ]
  },
  {
   "cell_type": "code",
   "execution_count": 1,
   "id": "d26d9b1d",
   "metadata": {},
   "outputs": [],
   "source": [
    "# !pip install openai"
   ]
  },
  {
   "cell_type": "markdown",
   "id": "47025c50",
   "metadata": {},
   "source": [
    "- I have stored my API key in a configuration file OpenAPIkey.py\n",
    "- You can set up enviroment variable for OpenAI key."
   ]
  },
  {
   "cell_type": "code",
   "execution_count": 1,
   "id": "b1b64d97",
   "metadata": {},
   "outputs": [],
   "source": [
    "import openai \n",
    "from OpenAPIKey import api_key # importing an openAI key form OpenAPIKey config file.\n",
    "openai.api_key = api_key"
   ]
  },
  {
   "cell_type": "markdown",
   "id": "a7859e5d",
   "metadata": {},
   "source": [
    "### Helper Function\n",
    "- We will use OpenAI's gpt-3.5-turbo model and the chat completions endpoint.\n",
    "- This helper function will make it easier to use prompts and look at the generated outputs"
   ]
  },
  {
   "cell_type": "code",
   "execution_count": 2,
   "id": "5560b828",
   "metadata": {},
   "outputs": [],
   "source": [
    "def get_output(prompt,model = 'gpt-3.5-turbo'):\n",
    "    messages = [{\"role\": \"user\", \"content\": prompt}]\n",
    "    response = openai.ChatCompletion.create(\n",
    "     model=model,\n",
    "     messages=messages,\n",
    "     temperature=0, # this is the degree of randomness of the model's output\n",
    "    )\n",
    "    return response.choices[0].message[\"content\"]"
   ]
  },
  {
   "cell_type": "code",
   "execution_count": 3,
   "id": "8fcfe6c2",
   "metadata": {},
   "outputs": [],
   "source": [
    "text  = f\"\"\"\n",
    "Certainly! Here's a fact sheet summarizing the key information about cricket bats:\n",
    "\n",
    "Name: Cricket Bat\n",
    "\n",
    "Type: Sports equipment\n",
    "\n",
    "Purpose: Used for striking the cricket ball in the game of cricket\n",
    "\n",
    "Specifications:\n",
    "- Size: Overall length should not exceed 38 inches (96.5 cm)\n",
    "- Blade width: Should not exceed 4.25 inches (10.8 cm)\n",
    "- Handle length: Should not exceed 32 inches (81.3 cm)\n",
    "- Weight: Should not exceed 3 lb 6 oz (1.53 kg)\n",
    "- Sweet Spot: Located around the mid-to-low section of the blade\n",
    "- Edge Thickness: Should not be more than 1.56 inches (4 cm)\n",
    "\n",
    "Material:\n",
    "- Blade: Made of Willow\n",
    "- Handle: Typically made of cane or composite materials\n",
    "\n",
    "Willow Grading\n",
    "- This information has been put together to give you an insight into Cricket\\\n",
    "bat willow grading, and why some bats cost more than others. All bats have\\\n",
    "different characteristics from balance and pick up to the width of the grain.\\\n",
    "As a rule of thumb, the softer (narrow grain) willow has excellent performance\\\n",
    "qualities but shorter lifespan, whereas the harder (broader grain) willow tends\\\n",
    "to last longer but takes time before you get optimum performance from it. All\\\n",
    "bats are graded on performance and made from a natural material so the grain\\\n",
    "structure can vary.\n",
    "\n",
    "1) Very best Grade 1+ willow - This is the best willow that money can buy.\\\n",
    "The blade is unbleached and usually has 8-12 blemish free straight grains\\\n",
    "to a large extent. The price of one of these bats would be over £350 for a\\\n",
    "full sized blade and over £150 for a junior blade.\n",
    "\n",
    "2) Grade 1 willow - High quality unbleached English willow. As above but\\\n",
    "with a slightly broader grain and sometimes a slight red edge. The price\\\n",
    "of one of these bats would be between £250 and £300 for a full sized blade\\\n",
    "and £120-£150 for a junior blade.\n",
    "\n",
    "3) Grade 2 willow - Unbleached English willow with some minor blemishes,\\\n",
    "red wood on the edge and a slight irregular grain. The price of one of \\\n",
    "these bats would be between £200 and £250 for a full sized blade and around\\\n",
    "£100-£120 for a junior blade.\n",
    "\n",
    "4) Grade 3 willow - Some of these bats will be bleached English willow to\\\n",
    "cover up a more irregular grain and more blemishes. The price of one of\\\n",
    "these bats would be between £150 and £200 for a full sized blade and £75-£100\\\n",
    "for a junior blade.\n",
    "\n",
    "5) Grade 4 willow - This will be bleached English willow which is often\\\n",
    "covered up with a protective facing and sold as \"non oil\". The price of\\\n",
    "one of these bats would be between £100 and £150 for a full sized blade\\\n",
    "and £50-£75 for a junior blade.\n",
    "\n",
    "6) Kashmir willow - Found in cricket sets and sub £45 junior bats. Kashmir\\\n",
    "willow is harder and dryer by nature than English willow, so doesn't\\\n",
    "perform as well or last as long. This bat is ideal as a starter bat for\\\n",
    "use against a softer safety ball (Incrediballs, Wonderballs, Windballs e.t.c)\n",
    "\n",
    "\n",
    "Usage: Held by a cricket player to strike the ball during batting\n",
    "\n",
    "History: Cricket bats have been used since the 17th century, evolving from the curved-shaped bats to the modern\\\n",
    "flat-faced bats commonly used today.\n",
    "\n",
    "Notable Manufacturers: Various companies produce cricket bats, including well-known brands like Gray-Nicolls,\\\n",
    "Gunn & Moore, Kookaburra, Spartan, and more.\n",
    "\n",
    "Customization: Professional players often have customized bats tailored to their preferences, including weight,\\\n",
    "handle grip, balance, and other factors.\n",
    "\n",
    "Regulation: Cricket bat specifications are governed by the International Cricket Council (ICC) and may vary slightly\\\n",
    "based on different cricket board or competition rules.\n",
    "\n",
    "Fun Fact: The heaviest cricket bat ever made weighed around 3.5 kg (7.7 lb) and was used by Australian cricketer\\\n",
    "David Warner.\n",
    "\n",
    "Please note that the provided information is based on general knowledge and practices, and specific details\\\n",
    "may vary based on personal preferences, regional variations, and changes in regulations.\n",
    "\"\"\""
   ]
  },
  {
   "cell_type": "code",
   "execution_count": 4,
   "id": "1093cb8d",
   "metadata": {},
   "outputs": [
    {
     "name": "stdout",
     "output_type": "stream",
     "text": [
      "Cricket bats are essential equipment used in the game of cricket to strike the ball. They have evolved over time, starting from curved-shaped bats to the modern flat-faced bats commonly used today. The specifications of a cricket bat are regulated by the International Cricket Council (ICC) and may vary slightly based on different cricket board or competition rules.\n",
      "\n",
      "A cricket bat has an overall length that should not exceed 38 inches (96.5 cm). The blade width should not exceed 4.25 inches (10.8 cm), and the handle length should not exceed 32 inches (81.3 cm). The weight of the bat should not exceed 3 lb 6 oz (1.53 kg). The sweet spot, which is the optimal striking area, is located around the mid-to-low section of the blade. The edge thickness should not be more than 1.56 inches (4 cm).\n",
      "\n",
      "The blade of a cricket bat is typically made of willow, which is a natural material known for its performance qualities. The handle is usually made of cane or composite materials. Willow grading is an important factor in determining the quality and performance of a cricket bat. The grading is based on the characteristics of the willow, such as balance, pick up, and width of the grain.\n",
      "\n",
      "The highest grade of willow is Grade 1+, which has 8-12 blemish-free straight grains and is considered the best willow available. Grade 1 willow is also of high quality, with slightly broader grains and sometimes a slight red edge. Grade 2 willow has minor blemishes, red wood on the edge, and a slight irregular grain. Grade 3 willow may have a more irregular grain and blemishes, and some bats may be bleached to cover up these imperfections. Grade 4 willow is often bleached and covered with a protective facing. Kashmir willow, found in cricket sets and junior bats, is harder and dryer than English willow and is ideal for use with softer safety balls.\n",
      "\n",
      "Cricket bats are held by players during batting, and professional players often have customized bats tailored to their preferences. These customizations can include weight, handle grip, balance, and other factors. Various companies, such as Gray-Nicolls, Gunn & Moore, Kookaburra, and Spartan, manufacture cricket bats.\n",
      "\n",
      "A fun fact about cricket bats is that the heaviest bat ever made weighed around 3.5 kg (7.7 lb) and was used by Australian cricketer David Warner.\n",
      "\n",
      "It's important to note that while the provided information is based on general knowledge and practices, specific details may vary based on personal preferences, regional variations, and changes in regulations.\n"
     ]
    }
   ],
   "source": [
    "prompt = f\"\"\"\n",
    "Your task is to help the a new cricket player understand details of \n",
    "bat and process of Professional Match ready bat prepration\n",
    "using the facts provided in the text.\n",
    "\n",
    "Write a description based on the information provided by technical\n",
    "specification delimited by triple backtics.\n",
    "\n",
    "Bat specifications: ```{text}```\n",
    "\"\"\"\n",
    "\n",
    "output = get_output(prompt)\n",
    "print(output)"
   ]
  },
  {
   "cell_type": "code",
   "execution_count": 6,
   "id": "285e0b61",
   "metadata": {},
   "outputs": [
    {
     "name": "stdout",
     "output_type": "stream",
     "text": [
      "A cricket bat is a sports equipment used to strike the cricket ball. It has specific specifications such as size, weight, blade width, handle length, sweet spot, and edge thickness. The blade is made of willow, while the handle is typically made of cane or composite materials. Willow grading determines the quality and performance of the bat, with Grade 1+ willow being the best. Cricket bats have evolved over time and are customized for professional players. Regulations are set by the ICC, and notable manufacturers include Gray-Nicolls, Gunn & Moore, and Kookaburra.\n"
     ]
    }
   ],
   "source": [
    "prompt = f\"\"\"\n",
    "Your task is to help the a new cricket player understand details of \n",
    "bat and process of Professional Match ready bat prepration\n",
    "using the facts provided in the text.\n",
    "\n",
    "Write a description based on the information provided by technical\n",
    "specification delimited by triple backtics.\n",
    "\n",
    "use at most 50 words.\n",
    "\n",
    "Technical specifications: ```{text}```\n",
    "\"\"\"\n",
    "\n",
    "output = get_output(prompt)\n",
    "print(output)"
   ]
  },
  {
   "cell_type": "code",
   "execution_count": 7,
   "id": "d8afc033",
   "metadata": {},
   "outputs": [
    {
     "data": {
      "text/plain": [
       "92"
      ]
     },
     "execution_count": 7,
     "metadata": {},
     "output_type": "execute_result"
    }
   ],
   "source": [
    "len(output.split(\" \"))"
   ]
  },
  {
   "cell_type": "code",
   "execution_count": 8,
   "id": "feb78202",
   "metadata": {},
   "outputs": [
    {
     "name": "stdout",
     "output_type": "stream",
     "text": [
      "The cricket bat is a sports equipment used for striking the cricket ball. It has an overall length of up to 38 inches and a blade width of up to 4.25 inches. The handle should not exceed 32 inches in length. The bat should not weigh more than 3 lb 6 oz. The blade is made of willow, while the handle is typically made of cane or composite materials. Willow grading varies from Grade 1+ (highest quality) to Grade 4 (lower quality). Customization options are available for professional players. The regulations are governed by the ICC.\n"
     ]
    }
   ],
   "source": [
    "prompt = f\"\"\"\n",
    "Your task is to help the a new cricket player understand details of \n",
    "bat and process of Knocking and Professional Match ready bat prepration\n",
    "using the facts provided in the text.\n",
    "\n",
    "Write a description based on the information provided by technical\n",
    "specification delimited by triple backtics.\n",
    "\n",
    "\n",
    "This description is intended for bat manufacturer retailers \n",
    "so should be technical in nature and focus on the material of\n",
    "the product.\n",
    "\n",
    "use at most 50 words.\n",
    "\n",
    "Technical specifications: ```{text}```\n",
    "\"\"\"\n",
    "\n",
    "output = get_output(prompt)\n",
    "print(output)"
   ]
  },
  {
   "cell_type": "code",
   "execution_count": 9,
   "id": "48707193",
   "metadata": {},
   "outputs": [
    {
     "name": "stdout",
     "output_type": "stream",
     "text": [
      "<div>\n",
      "  <h2>Overview of Cricket Bats</h2>\n",
      "  <p>A cricket bat is a sports equipment used for striking the cricket ball in the game of cricket. It is held by a cricket player during batting and is an essential tool for scoring runs. Cricket bats have been used since the 17th century and have evolved over time to meet the requirements of the game.</p>\n",
      "  \n",
      "  <h2>Technical Specifications</h2>\n",
      "  <ul>\n",
      "    <li><strong>Size:</strong> The overall length of a cricket bat should not exceed 38 inches (96.5 cm).</li>\n",
      "    <li><strong>Blade Width:</strong> The blade width should not exceed 4.25 inches (10.8 cm).</li>\n",
      "    <li><strong>Handle Length:</strong> The handle length should not exceed 32 inches (81.3 cm).</li>\n",
      "    <li><strong>Weight:</strong> The weight of a cricket bat should not exceed 3 lb 6 oz (1.53 kg).</li>\n",
      "    <li><strong>Sweet Spot:</strong> The sweet spot of a cricket bat is located around the mid-to-low section of the blade. It is the area that provides the best performance when striking the ball.</li>\n",
      "    <li><strong>Edge Thickness:</strong> The edge thickness of a cricket bat should not be more than 1.56 inches (4 cm).</li>\n",
      "  </ul>\n",
      "  \n",
      "  <h2>Material</h2>\n",
      "  <p>A cricket bat is primarily made of two main materials:</p>\n",
      "  <ul>\n",
      "    <li><strong>Blade:</strong> The blade of a cricket bat is made of willow. Willow is a natural material known for its excellent performance qualities. It is available in different grades, which affect the performance and durability of the bat.</li>\n",
      "    <li><strong>Handle:</strong> The handle of a cricket bat is typically made of cane or composite materials. It provides the necessary grip and control for the player while batting.</li>\n",
      "  </ul>\n",
      "  \n",
      "  <h2>Willow Grading</h2>\n",
      "  <p>Cricket bat willow grading is an important factor in determining the quality and performance of a bat. The grading system helps differentiate bats based on their characteristics and materials used. Here are the different grades of willow:</p>\n",
      "  \n",
      "  <table>\n",
      "    <tr>\n",
      "      <th>Grade</th>\n",
      "      <th>Material</th>\n",
      "    </tr>\n",
      "    <tr>\n",
      "      <td>1+</td>\n",
      "      <td>Best Grade 1+ willow</td>\n",
      "    </tr>\n",
      "    <tr>\n",
      "      <td>1</td>\n",
      "      <td>High quality unbleached English willow</td>\n",
      "    </tr>\n",
      "    <tr>\n",
      "      <td>2</td>\n",
      "      <td>Unbleached English willow with minor blemishes</td>\n",
      "    </tr>\n",
      "    <tr>\n",
      "      <td>3</td>\n",
      "      <td>Bleached English willow with irregular grain</td>\n",
      "    </tr>\n",
      "    <tr>\n",
      "      <td>4</td>\n",
      "      <td>Bleached English willow with protective facing</td>\n",
      "    </tr>\n",
      "    <tr>\n",
      "      <td>Kashmir</td>\n",
      "      <td>Harder and dryer willow, suitable for starter bats</td>\n",
      "    </tr>\n",
      "  </table>\n",
      "  \n",
      "  <h2>Notable Manufacturers</h2>\n",
      "  <p>Various companies produce cricket bats, including well-known brands like Gray-Nicolls, Gunn & Moore, Kookaburra, Spartan, and more. These manufacturers have a reputation for producing high-quality bats that are used by professional players around the world.</p>\n",
      "  \n",
      "  <h2>Customization</h2>\n",
      "  <p>Professional players often have customized bats tailored to their preferences. They can choose the weight, handle grip, balance, and other factors to suit their playing style. Customization allows players to have a bat that feels comfortable and enhances their performance on the field.</p>\n",
      "  \n",
      "  <h2>Regulation</h2>\n",
      "  <p>Cricket bat specifications are governed by the International Cricket Council (ICC) and may vary slightly based on different cricket board or competition rules. It is important for manufacturers and players to adhere to these regulations to ensure fair play and maintain the integrity of the game.</p>\n",
      "  \n",
      "  <h2>Fun Fact</h2>\n",
      "  <p>The heaviest cricket bat ever made weighed around 3.5 kg (7.7 lb) and was used by Australian cricketer David Warner. This bat was an exception and not commonly used due to its weight.</p>\n",
      "</div>\n"
     ]
    }
   ],
   "source": [
    "prompt = f\"\"\"\n",
    "Your task is to help the a new cricket player understand details of \n",
    "bat and process of Knocking and Professional Match ready bat prepration\n",
    "using the facts provided in the text.\n",
    "\n",
    "Write a description based on the information provided by technical\n",
    "specification delimited by triple backtics.\n",
    "\n",
    "\n",
    "This description is intended for bat manufacturer retailers \n",
    "so should be technical in nature and focus on the material of\n",
    "the product.\n",
    "\n",
    "Initiate with the Overview about Cricket Bats & Create Sections \n",
    "as per the specifications & History of the Bats\n",
    "\n",
    "After the description include a table that gives the grades\n",
    "of bats and material they are made up of. The table should \n",
    "contains two columns the first columns includes the grades \n",
    "of the bat and second column includes the materials in brief.\n",
    "\n",
    "Give the title 'Willow Grading'.\n",
    "\n",
    "Format everything as HTML that can be easily used in a website \n",
    "place a description in a <div> element.\n",
    "\n",
    "Embed a image of bat from the internet \n",
    "\n",
    "\n",
    "Technical specifications: ```{text}```\n",
    "\"\"\"\n",
    "\n",
    "output = get_output(prompt)\n",
    "print(output)"
   ]
  },
  {
   "cell_type": "code",
   "execution_count": 10,
   "id": "b8fdf424",
   "metadata": {},
   "outputs": [],
   "source": [
    "from IPython.display import display,HTML"
   ]
  },
  {
   "cell_type": "code",
   "execution_count": 11,
   "id": "9c0d3b9b",
   "metadata": {},
   "outputs": [
    {
     "data": {
      "text/html": [
       "<div>\n",
       "  <h2>Overview of Cricket Bats</h2>\n",
       "  <p>A cricket bat is a sports equipment used for striking the cricket ball in the game of cricket. It is held by a cricket player during batting and is an essential tool for scoring runs. Cricket bats have been used since the 17th century and have evolved over time to meet the requirements of the game.</p>\n",
       "  \n",
       "  <h2>Technical Specifications</h2>\n",
       "  <ul>\n",
       "    <li><strong>Size:</strong> The overall length of a cricket bat should not exceed 38 inches (96.5 cm).</li>\n",
       "    <li><strong>Blade Width:</strong> The blade width should not exceed 4.25 inches (10.8 cm).</li>\n",
       "    <li><strong>Handle Length:</strong> The handle length should not exceed 32 inches (81.3 cm).</li>\n",
       "    <li><strong>Weight:</strong> The weight of a cricket bat should not exceed 3 lb 6 oz (1.53 kg).</li>\n",
       "    <li><strong>Sweet Spot:</strong> The sweet spot of a cricket bat is located around the mid-to-low section of the blade. It is the area that provides the best performance when striking the ball.</li>\n",
       "    <li><strong>Edge Thickness:</strong> The edge thickness of a cricket bat should not be more than 1.56 inches (4 cm).</li>\n",
       "  </ul>\n",
       "  \n",
       "  <h2>Material</h2>\n",
       "  <p>A cricket bat is primarily made of two main materials:</p>\n",
       "  <ul>\n",
       "    <li><strong>Blade:</strong> The blade of a cricket bat is made of willow. Willow is a natural material known for its excellent performance qualities. It is available in different grades, which affect the performance and durability of the bat.</li>\n",
       "    <li><strong>Handle:</strong> The handle of a cricket bat is typically made of cane or composite materials. It provides the necessary grip and control for the player while batting.</li>\n",
       "  </ul>\n",
       "  \n",
       "  <h2>Willow Grading</h2>\n",
       "  <p>Cricket bat willow grading is an important factor in determining the quality and performance of a bat. The grading system helps differentiate bats based on their characteristics and materials used. Here are the different grades of willow:</p>\n",
       "  \n",
       "  <table>\n",
       "    <tr>\n",
       "      <th>Grade</th>\n",
       "      <th>Material</th>\n",
       "    </tr>\n",
       "    <tr>\n",
       "      <td>1+</td>\n",
       "      <td>Best Grade 1+ willow</td>\n",
       "    </tr>\n",
       "    <tr>\n",
       "      <td>1</td>\n",
       "      <td>High quality unbleached English willow</td>\n",
       "    </tr>\n",
       "    <tr>\n",
       "      <td>2</td>\n",
       "      <td>Unbleached English willow with minor blemishes</td>\n",
       "    </tr>\n",
       "    <tr>\n",
       "      <td>3</td>\n",
       "      <td>Bleached English willow with irregular grain</td>\n",
       "    </tr>\n",
       "    <tr>\n",
       "      <td>4</td>\n",
       "      <td>Bleached English willow with protective facing</td>\n",
       "    </tr>\n",
       "    <tr>\n",
       "      <td>Kashmir</td>\n",
       "      <td>Harder and dryer willow, suitable for starter bats</td>\n",
       "    </tr>\n",
       "  </table>\n",
       "  \n",
       "  <h2>Notable Manufacturers</h2>\n",
       "  <p>Various companies produce cricket bats, including well-known brands like Gray-Nicolls, Gunn & Moore, Kookaburra, Spartan, and more. These manufacturers have a reputation for producing high-quality bats that are used by professional players around the world.</p>\n",
       "  \n",
       "  <h2>Customization</h2>\n",
       "  <p>Professional players often have customized bats tailored to their preferences. They can choose the weight, handle grip, balance, and other factors to suit their playing style. Customization allows players to have a bat that feels comfortable and enhances their performance on the field.</p>\n",
       "  \n",
       "  <h2>Regulation</h2>\n",
       "  <p>Cricket bat specifications are governed by the International Cricket Council (ICC) and may vary slightly based on different cricket board or competition rules. It is important for manufacturers and players to adhere to these regulations to ensure fair play and maintain the integrity of the game.</p>\n",
       "  \n",
       "  <h2>Fun Fact</h2>\n",
       "  <p>The heaviest cricket bat ever made weighed around 3.5 kg (7.7 lb) and was used by Australian cricketer David Warner. This bat was an exception and not commonly used due to its weight.</p>\n",
       "</div>"
      ],
      "text/plain": [
       "<IPython.core.display.HTML object>"
      ]
     },
     "metadata": {},
     "output_type": "display_data"
    }
   ],
   "source": [
    "display(HTML(output))"
   ]
  }
 ],
 "metadata": {
  "kernelspec": {
   "display_name": "Python 3 (ipykernel)",
   "language": "python",
   "name": "python3"
  },
  "language_info": {
   "codemirror_mode": {
    "name": "ipython",
    "version": 3
   },
   "file_extension": ".py",
   "mimetype": "text/x-python",
   "name": "python",
   "nbconvert_exporter": "python",
   "pygments_lexer": "ipython3",
   "version": "3.9.7"
  }
 },
 "nbformat": 4,
 "nbformat_minor": 5
}
