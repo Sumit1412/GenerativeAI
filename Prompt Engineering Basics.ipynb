{
 "cells": [
  {
   "cell_type": "markdown",
   "id": "3fa51f2e",
   "metadata": {},
   "source": [
    "### Import Library\n",
    "- I have stored my API key in a configuration file OpenAPIkey.py\n",
    "- You can set up enviroment variable for OpenAI key."
   ]
  },
  {
   "cell_type": "code",
   "execution_count": 1,
   "id": "444ceb94",
   "metadata": {},
   "outputs": [],
   "source": [
    "import openai\n",
    "from OpenAPIKey import api_key # importing an openAI key form OpenAPIKey config file.\n",
    "openai.api_key = api_key"
   ]
  },
  {
   "cell_type": "markdown",
   "id": "be5de510",
   "metadata": {},
   "source": [
    "### Helper Function\n",
    "- We will use OpenAI's gpt-3.5-turbo model and the chat completions endpoint. You find the list of all the GPT model & rate limits https://platform.openai.com/account/rate-limits\n",
    "- This helper function will make it easier to use prompts and look at the generated outputs"
   ]
  },
  {
   "cell_type": "code",
   "execution_count": 2,
   "id": "7cdd3086",
   "metadata": {},
   "outputs": [],
   "source": [
    "def get_output(prompt,model = 'gpt-3.5-turbo'):\n",
    "    messages = [{\"role\": \"user\", \"content\": prompt}]\n",
    "    response = openai.ChatCompletion.create(\n",
    "     model=model,\n",
    "     messages=messages,\n",
    "     temperature=0, # this is the degree of randomness of the model's output\n",
    "    )\n",
    "    return response.choices[0].message[\"content\"]"
   ]
  },
  {
   "cell_type": "markdown",
   "id": "9552fe78",
   "metadata": {},
   "source": [
    "# Principal 1  -  Write Clear & Specific Instructions"
   ]
  },
  {
   "cell_type": "code",
   "execution_count": 3,
   "id": "71acf9d9",
   "metadata": {},
   "outputs": [],
   "source": [
    "text = f\"\"\"\n",
    "Former Indian cricketer in December 2011 became the first ever Indian cricketer to give a speech at Bradman Oration in Canberra.\\\n",
    "His innings with the microphone was as impressive as his outings in the middle of the pitch.\\\n",
    "Dravid, a man who has a keen interest in history, spoke at length about the historical facts that bonded India \\\n",
    "and Australia, and connected it to the joy that Sir Don Bradman brought to the Indians. Dravid went on to describe \\\n",
    "the impact Bradman, widely acknowledged as the greatest ever cricketer, had on the people of India, especially when\\\n",
    "the Australia were thrashing the English.\\\n",
    "For one generation of fans in my country, those who grew up in the 1930s, when India was still under British rule,\\\n",
    "Bradman represented a cricketing excellence that belonged to somewhere outside England. To a country taking its first \\\n",
    "steps in Test cricket, that meant something. His success against England at that time was thought of as our personal \\\n",
    "success. He was striking one for all of us ruled by the common enemy. Or as your country has so poetically called them,\\\n",
    "the Poms,” said Dravid.\\\n",
    "Just like Dravid’s batting was a fantastic mix of solid defence and classical strokes, his speech was informative,\\\n",
    "insightful with occasional smart humour weaved in.\n",
    "It is however, incongruous, that I, an Indian, happen to be the first cricketer from outside Australia, invited to\\\n",
    "deliver the Bradman Oration. I don’t say that only because Sir Don once scored a hundred before lunch at Lord’s \\\n",
    "and my 100 at Lord’s this year took almost an entire day.\\\n",
    "But more seriously, Sir Don played just five Tests against India; that was in the first India-Australia series\\\n",
    "in 1947-48, which was to be his last season at home. He didn’t even play in India, and remains the most \\\n",
    "venerated cricketer in India not to have played there.\\\n",
    "We know that he set foot in India though, in May 1953, when on his way to England to report on the Ashes\\\n",
    "for an English newspaper, his plane stopped in Calcutta airport. There were said to be close to a 1000 people \\\n",
    "waiting to greet him; as you know, he was a very private person and so got into an army jeep and rushed into a\\\n",
    "barricaded building, annoyed with the airline for having ‘breached confidentiality.’ That was all Indians of the\\\n",
    "time saw of Bradman who remains a mythical figure,” Dravid said.\\\n",
    "Dravid spoke about how he read about Bradman through the cricket books and mentioned that he was very “pleased”\\\n",
    "that he shared something very important with Bradman.\\\n",
    "While there may be very little similarity in our records or our strike-rates or our fielding – and I can say this only\\\n",
    "today in front of all of you – I am actually pleased that I share something very important with Sir Don.\\\n",
    "He was, primarily, like me, a No.3 batsman. It is a tough, tough job.\\\n",
    "We’re the ones who make life easier for the kings of batting, the middle order that follows us. Bradman did\\\n",
    "that with a bit more success and style than I did. He dominated bowling attacks and put bums on seats, if I bat\\\n",
    "for any length of time I am more likely to bore people to sleep. Still, it is nice to have batted for a long time\\\n",
    "in a position, whose benchmark is, in fact, the benchmark for batsmanship itself,” once again Dravid beautifully\\\n",
    "wove-in fun to insights.\\\n",
    "Dravid, who is fondly called “The Wall” for his resilient batting, proceeded to talk about cricket rivalry between\\\n",
    "India and Australia, and how he believed that the relations have improved after the controversial Test series in 2007-08\\\n",
    ". He thanked the Indian Premier League (IPL) which has helped mend the relations. He said Australian cricketers such\\\n",
    "as Shane Watson and Mike Hussey play in the IPL and they are “greatly appreciated back home.” He then poked fun at Shane Warne.\\\n",
    "Even Shane Warne likes India now. I really enjoyed playing alongside him at Rajasthan last season and can confidently \\\n",
    "report to you that he is not eating imported baked beans any more. In fact, looking at him, it seems he is not eating \\\n",
    "anything,” Dravid joked.\\\n",
    "Dravid praised BCCI’s role in spreading cricket in the remotest parts of the country and how that initiative played\\\n",
    "a major role in creating quality cricketers.\\\n",
    "Dravid said: “As the earnings from Indian cricket have grown in the past 2 decades, mainly through television, the\\\n",
    "BCCI has spread revenues to various pockets in the country and improved where we play. The field is now spread wider\\\n",
    "than it ever has been, the ground covered by Indian cricket, has shifted.\\\n",
    "Twenty seven teams compete in our national championship, the Ranji Trophy. Last season Rajasthan, a state best known\\\n",
    "for its palaces, fortresses and tourism won the Ranji Trophy title for the first time in its history. The national \\\n",
    "one-day championship also had a first-time winner in the newly formed state of Jharkand, where our captain MS Dhoni\\\n",
    "comes from.\\\n",
    "The growth and scale of cricket on our television was the engine of this population shift. Like Bradman was the boy\\\n",
    "from Bowral, a stream of Indian cricketers now come from what you could call India’s outback.\\\n",
    "Zaheer Khan belongs to the Maharashtra heartland, from a town that didn’t have even one proper turf wicket. He could\\\n",
    "have been an instrumentation engineer but was drawn to cricket through TV and modelled his bowling by practising in\\\n",
    "front of the mirror on his cupboard at home, and first bowled with a proper cricket ball at the age of 17.\\\n",
    "One day out of nowhere, a boy from a village in Gujarat turned up as India’s fastest bowler. After Munaf Patel made\\\n",
    "his debut for India, the road from the nearest railway station to his village had to be improved because journalists\\\n",
    "and TV crews from the cities kept landing up there.\\\n",
    "We are delighted that Umesh Yadav didn’t become a policeman like he was planning and turned to cricket instead. He\\\n",
    "is the first cricketer from the central Indian first-class team of Vidarbha to play Test cricket.\\\n",
    "Virender Sehwag, it shouldn’t surprise you, belongs to the Wild West just outside Delhi. He had to be enrolled\\\n",
    "in a college which had a good cricket programme and travelled 84kms every day by bus to get to practice and \\\n",
    "matches.”Every player in this room wearing an India blazer has a story like this. Here, ladies and gentlemen,\\\n",
    "is the heart and soul of Indian cricket.\\\n",
    "Dravid spoke on a clear roadmap for all three formats of cricket: ODIs, Twenty20 and Tests. He described Dravid as \\\n",
    "the pinnacle of the sport. He also encouraged proposals for day-night Tests and Test championship. He said that he\\\n",
    "played a First-Class match at Abu Dhabi earlier that year which was day-night and he enjoyed it.\\\n",
    "Test cricket is the gold standard, it is the form the players want to play. Test cricket deserves to be protected,\\\n",
    "it is what the world’s best know they will be judged by.\\\n",
    "Dravid’s speech truly showed how desperate he is for the sport to grow. A true gentleman of the gentleman’s game, \\\n",
    "Dravid also spoke like one.\\\n",
    "That Australia series happened to be his last one in international cricket, as soon after India’s defeat Down Under\\\n",
    "he retired from the sport.\n",
    "\"\"\""
   ]
  },
  {
   "cell_type": "markdown",
   "id": "e2a14c71",
   "metadata": {},
   "source": [
    "### Tactics 1: Use Delmiters."
   ]
  },
  {
   "cell_type": "code",
   "execution_count": 4,
   "id": "5d7cd064",
   "metadata": {},
   "outputs": [
    {
     "name": "stdout",
     "output_type": "stream",
     "text": [
      "Former Indian cricketer Rahul Dravid became the first non-Australian cricketer to deliver the Bradman Oration in Canberra, where he spoke about the historical connection between India and Australia and the impact Sir Don Bradman had on Indian cricket, highlighting the admiration and personal success he represented for Indian fans during the time of British rule, and also discussed the growth of cricket in India, the role of the BCCI, and the importance of Test cricket.\n"
     ]
    }
   ],
   "source": [
    "prompt = f\"\"\"\n",
    "Summarize the text delimited by anlge brackets\\\n",
    "into a single sentence\n",
    "<{text}>\n",
    "\"\"\"\n",
    "output  = get_output(prompt)\n",
    "print(output)"
   ]
  },
  {
   "cell_type": "markdown",
   "id": "02bf15da",
   "metadata": {},
   "source": [
    "- Delimiters in prompt engineering help mitigate prompt injections by clearly separating the controlled prompt from user-provided input, ensuring the model follows the intended instructions."
   ]
  },
  {
   "cell_type": "markdown",
   "id": "334e440a",
   "metadata": {},
   "source": [
    "### Tactics 2: Generate Structured Output."
   ]
  },
  {
   "cell_type": "code",
   "execution_count": 5,
   "id": "ef0b98e0",
   "metadata": {},
   "outputs": [
    {
     "name": "stdout",
     "output_type": "stream",
     "text": [
      "Name            | BirthDate   | BirthPlace\n",
      "----------------|-------------|-----------\n",
      "Vikram Sarabhai | 12 Aug 1919 | Ahmedabad, Gujarat\n",
      "A. P. J. Abdul Kalam | 15 Oct 1931 | Rameswaram, Tamil Nadu\n",
      "Satish Dhawan | 25 Sep 1920 | Srinagar, Jammu and Kashmir\n",
      "Udupi Ramachandra Rao | 10 Mar 1932 | Adamaru, Karnataka\n",
      "Kailasavadivoo Sivan | 14 Apr 1957 | Mela Sarakkalvilai, Tamil Nadu\n",
      "G. Madhavan Nair | 31 Oct 1943 | Thiruvananthapuram, Kerala\n",
      "Mylswamy Annadurai | 2 Jul 1958 | Kodhawady, Tamil Nadu\n",
      "Koppillil Radhakrishnan | 29 Aug 1949 | Irinjalakuda, Kerala\n",
      "Yash Pal | 26 Nov 1926 | Jhang, Punjab (now in Pakistan)\n",
      "Roddam Narasimha | 20 Jul 1933 | Bangalore, Karnataka\n"
     ]
    }
   ],
   "source": [
    "prompt = f\"\"\"\n",
    "Generate a list of well known space scientist of India along\\\n",
    "with there name provide there date of birth and birth place\n",
    "Provide them in Tabular structure with following Columns like:\n",
    "Name,BirthDate,BirthPlace\n",
    "\"\"\"\n",
    "output = get_output(prompt)\n",
    "print(output)"
   ]
  },
  {
   "cell_type": "markdown",
   "id": "81d260be",
   "metadata": {},
   "source": [
    "### Tactics 3:  Check Whether Conditions are Statisfied."
   ]
  },
  {
   "cell_type": "code",
   "execution_count": 6,
   "id": "f12a2a6e",
   "metadata": {},
   "outputs": [
    {
     "name": "stdout",
     "output_type": "stream",
     "text": [
      "Completion of text below:\n",
      "Step 1 - Bring a pot of water to a boil on the stove.\n",
      "Step 2 - Once the water is boiling, add the noodles and cook them according to the package instructions until they reach the desired level of tenderness.\n",
      "Step 3 - While the noodles are cooking, prepare the sauce or ingredients of your choice.\n",
      "Step 4 - Once the noodles are cooked, drain them in a colander and rinse them with cold water to halt the cooking process.\n",
      "Step 5 - Return the noodles to the pot and mix in the prepared sauce or ingredients.\n",
      "Step 6 - Heat the noodles for a few minutes, stirring occasionally to ensure they are evenly coated and heated through.\n",
      "Step 7 - Finally, transfer the cooked noodles to serving bowls and enjoy your deliciously cooked noodles.\n"
     ]
    }
   ],
   "source": [
    "text = f\"\"\"\n",
    "To cook noodles, start by bringing a pot of water to a boil on the stove. Once the water is boiling, \\\n",
    "add the noodles and cook them according to the package instructions until they reach the desired level\\\n",
    "of tenderness. While the noodles are cooking, you can prepare the sauce or ingredients of your choice.\\\n",
    "Once the noodles are cooked, drain them in a colander and rinse them with cold water to halt the cooking\\\n",
    "process. Return the noodles to the pot and mix in the prepared sauce or ingredients. Heat the noodles for\\\n",
    "a few minutes, stirring occasionally to ensure they are evenly coated and heated through. Finally, transfer\\\n",
    "the cooked noodles to serving bowls and enjoy your deliciously cooked noodles.\n",
    "\"\"\"\n",
    "\n",
    "prompt  = f\"\"\"\n",
    "text delimied by anlge brackets\n",
    "if the text contains sequence of instructions,\\\n",
    "Re-write instructions in the following manner:\n",
    "\n",
    "Step 1 - ...\n",
    "Step 2 - ...\n",
    "...\n",
    "Step N - ...\n",
    "\n",
    "if the text doesn't comprises of any sequence of instructions,\\\n",
    "then simply write \\\"No steps Provided.\\\"\"\n",
    "<{text}>\n",
    "\"\"\"\n",
    "\n",
    "output = get_output(prompt)\n",
    "print(\"Completion of text below:\")\n",
    "print(output)"
   ]
  },
  {
   "cell_type": "code",
   "execution_count": 8,
   "id": "2a878e67",
   "metadata": {},
   "outputs": [
    {
     "name": "stdout",
     "output_type": "stream",
     "text": [
      "Completion of text below:\n",
      "No steps Provided.\n"
     ]
    }
   ],
   "source": [
    "text = f\"\"\"\n",
    "India's victory in the 2011 Cricket World Cup was a momentous occasion that brought immense joy and pride to the \\\n",
    "nation. The tournament, held in India, showcased the country's love and passion for the game. Led by the dynamic\\\n",
    "captain Mahendra Singh Dhoni, the Indian cricket team showcased exceptional skill, determination, and teamwork \\\n",
    "throughout the tournament. The final, played at the Wankhede Stadium in Mumbai, was a thrilling contest against \\\n",
    "Sri Lanka. Chasing a target of 275 runs, India faced early setbacks but resilient batting performances by \\\n",
    "Gautam Gambhir and the captain himself steadied the innings. In a breathtaking finish, Dhoni sealed the victory \\\n",
    "with a powerful six, sparking jubilation across the nation. The win marked India's second-ever World Cup triumph, \\\n",
    "28 years after their first in 1983. The team's success brought the entire nation together, uniting people across \\\n",
    "diverse backgrounds and regions in celebration. It was a historic moment that etched itself into the hearts of\\\n",
    "millions, reminding the world of India's cricketing prowess and showcasing the power of sports in fostering \\\n",
    "national pride and unity.\n",
    "\"\"\"\n",
    "\n",
    "prompt  = f\"\"\"\n",
    "text delimied by anlge brackets\n",
    "if the text contains sequence of instructions,\\\n",
    "Re-write instructions in the following manner:\n",
    "\n",
    "Step 1 - ...\n",
    "Step 2 - ...\n",
    "...\n",
    "Step N - ...\n",
    "\n",
    "if the text doesn't comprises of any sequence of instructions,\\\n",
    "then simply write \\\"No steps Provided.\\\"\"\n",
    "<{text}>\n",
    "\"\"\"\n",
    "\n",
    "output = get_output(prompt)\n",
    "print(\"Completion of text below:\")\n",
    "print(output)\n",
    "output = get_output(prompt)\n"
   ]
  },
  {
   "cell_type": "markdown",
   "id": "a6e09553",
   "metadata": {},
   "source": [
    "### Tactics 4 - Few Shot Prompting "
   ]
  },
  {
   "cell_type": "code",
   "execution_count": 16,
   "id": "beccaa9b",
   "metadata": {},
   "outputs": [
    {
     "name": "stdout",
     "output_type": "stream",
     "text": [
      "Teacher: I understand. Quadratic equations can be tricky, but with some practice, you'll get the hang of it. Let's start by reviewing the basic form of a quadratic equation: ax^2 + bx + c = 0. \n",
      "\n",
      "Student: Okay, I remember that. But how do I solve it when the equation is not factorable?\n",
      "\n",
      "Teacher: When the equation is not factorable, we can use the quadratic formula: x = (-b ± √(b^2 - 4ac)) / (2a). This formula will give us the solutions for x.\n",
      "\n",
      "Student: Oh, I've heard of the quadratic formula before. But how do I know when to use it?\n",
      "\n",
      "Teacher: You can use the quadratic formula when you have a quadratic equation that cannot be easily factored or when the factors are not real numbers. It's a reliable method to find the solutions.\n",
      "\n",
      "Student: That makes sense. But what about the applications of quadratic equations? How are they used in real life?\n",
      "\n",
      "Teacher: Quadratic equations have various applications in real life. They can be used to model the trajectory of a projectile, such as a thrown ball or a rocket. They are also used in engineering to design bridges, buildings, and other structures. Additionally, quadratic equations are used in finance to calculate profit and loss, as well as in physics to describe motion.\n",
      "\n",
      "Student: Wow, I didn't realize quadratic equations had so many real-life applications. Thank you for explaining that.\n",
      "\n",
      "Teacher: You're welcome! It's important to understand the practical uses of the concepts we learn in math. If you have any specific examples or further questions, feel free to ask.\n",
      "\n",
      "Student: I will definitely keep that in mind. Thank you for your help, teacher. I feel more confident now.\n",
      "\n",
      "Teacher: You're welcome, student. I'm glad I could assist you. Remember, practice is key to mastering quadratic equations. Don't hesitate to ask for help whenever you need it. Good luck!\n"
     ]
    }
   ],
   "source": [
    "prompt = f\"\"\"\n",
    "Here task is to answer in consistent style.\n",
    "Student: Good morning, teacher. I'm having trouble understanding this math concept.\\\n",
    "Can you help me?\n",
    "\n",
    "Teacher: Good morning! Of course, I'd be happy to assist you. Which specific concept are you struggling with?\n",
    "\n",
    "Student: It's the concept of quadratic equations. I find it challenging to solve them and\\\n",
    "understand their applications.\n",
    "\"\"\"\n",
    "output = get_output(prompt)\n",
    "print(output)"
   ]
  },
  {
   "cell_type": "markdown",
   "id": "bd89e762",
   "metadata": {},
   "source": [
    "# Principal 2 :  Give Model Time to Think\n",
    "- Tactic 1 : Specify the steps required to complete the task"
   ]
  },
  {
   "cell_type": "code",
   "execution_count": 11,
   "id": "87e8356f",
   "metadata": {},
   "outputs": [
    {
     "name": "stdout",
     "output_type": "stream",
     "text": [
      "Completion of the task:\n",
      "India's victory in the 2011 Cricket World Cup brought immense joy and pride to the nation, with the team led by Mahendra Singh Dhoni showcasing exceptional skill, determination, and teamwork throughout the tournament, ultimately winning the final against Sri Lanka with a powerful six by Dhoni himself, marking India's second-ever World Cup triumph 28 years after their first in 1983 and uniting the nation in celebration. \n",
      "\n",
      "भारत की जीत ने 2011 क्रिकेट विश्व कप में राष्ट्र को बहुत खुशी और गर्व महसूस कराया, जहां महेंद्र सिंग धोनी द्वारा नेतृत्वित टीम ने उत्कृष्ट कौशल, संकल्प और सहयोग का प्रदर्शन किया, अंततः धोनी द्वारा एक शक्तिशाली छक्के के साथ श्रीलंका के खिलाफ खिताबी मुकाबले में जीत हासिल की, जिससे भारत को अपने पहले विश्व कप जीत के 28 साल बाद दूसरी बार खिताब मिला और राष्ट्र को एकजुट करके उत्सव मनाने में सफल हुआ।\n",
      "\n",
      "Mahendra Singh Dhoni, Gautam Gambhir\n"
     ]
    }
   ],
   "source": [
    "text = f\"\"\"\n",
    "India's victory in the 2011 Cricket World Cup was a momentous occasion that brought immense joy and pride to the \\\n",
    "nation. The tournament, held in India, showcased the country's love and passion for the game. Led by the dynamic\\\n",
    "captain Mahendra Singh Dhoni, the Indian cricket team showcased exceptional skill, determination, and teamwork \\\n",
    "throughout the tournament. The final, played at the Wankhede Stadium in Mumbai, was a thrilling contest against \\\n",
    "Sri Lanka. Chasing a target of 275 runs, India faced early setbacks but resilient batting performances by \\\n",
    "Gautam Gambhir and the captain himself steadied the innings. In a breathtaking finish, Dhoni sealed the victory \\\n",
    "with a powerful six, sparking jubilation across the nation. The win marked India's second-ever World Cup triumph, \\\n",
    "28 years after their first in 1983. The team's success brought the entire nation together, uniting people across \\\n",
    "diverse backgrounds and regions in celebration. It was a historic moment that etched itself into the hearts of\\\n",
    "millions, reminding the world of India's cricketing prowess and showcasing the power of sports in fostering \\\n",
    "national pride and unity.\n",
    "\"\"\"\n",
    "\n",
    "prompt = f\"\"\"\n",
    "Perform the folowing actions.\n",
    "1- Summarize the following text delimited by triple backticks\\\n",
    "using 1 sentence. \n",
    "2-Translate the summary to Hindi.\n",
    "3-List Name of each player.\n",
    "\n",
    "Sperate your answer with a line breaks.\n",
    "\n",
    "Text:\n",
    "```{text}```\n",
    "\n",
    "\"\"\"\n",
    "\n",
    "output = get_output(prompt)\n",
    "print(\"Completion of the task:\")\n",
    "print(output)"
   ]
  },
  {
   "cell_type": "code",
   "execution_count": 12,
   "id": "9779f7bf",
   "metadata": {},
   "outputs": [
    {
     "name": "stdout",
     "output_type": "stream",
     "text": [
      "Completion of the task:\n",
      "Summary: India's victory in the 2011 Cricket World Cup brought immense joy and pride to the nation, showcasing their love and passion for the game, with Mahendra Singh Dhoni leading the team to success through exceptional skill, determination, and teamwork, ultimately winning the final against Sri Lanka with a powerful six by Dhoni himself.\n",
      "\n",
      "Translation: 2011 क्रिकेट विश्व कप में भारत की जीत ने राष्ट्र को अत्यधिक खुशी और गर्व महसूस कराया, जिसने खेल के प्रति उनकी प्रेम और जुनून को प्रदर्शित किया, महेंद्र सिंह धोनी द्वारा टीम का नेतृत्व करते हुए अद्वितीय कौशल, संकल्प और साझेदारी के माध्यम से सफलता प्राप्त की, अंतिम मुकाबला में श्रीलंका के खिलाफ धोनी द्वारा एक शक्तिशाली छक्के के साथ जीत हासिल की।\n",
      "\n",
      "Name: Mahendra Singh Dhoni, Gautam Gambhir\n"
     ]
    }
   ],
   "source": [
    "prompt = f\"\"\"\n",
    "Perform the folowinng actions.\n",
    "1- Summarize the following text delimited by triple backticks\\\n",
    "using 1 sentence. \n",
    "2-Translate the summary to Hindi.\n",
    "3-List Name of each player.\n",
    "\n",
    "Use the following format:\n",
    "Text:<text to summarize>\n",
    "Summary:<summary>\n",
    "Translation:<summary translation>\n",
    "Name:<List of Players Name>\n",
    "\n",
    "Text to summarize: ```{text}```\n",
    "\"\"\"\n",
    "\n",
    "output = get_output(prompt)\n",
    "print(\"Completion of the task:\")\n",
    "print(output)"
   ]
  },
  {
   "cell_type": "code",
   "execution_count": 13,
   "id": "ba740913",
   "metadata": {},
   "outputs": [
    {
     "name": "stdout",
     "output_type": "stream",
     "text": [
      "The student's answer is correct. The total cost for the first three months of operation is indeed $25,500.\n"
     ]
    }
   ],
   "source": [
    "prompt = f\"\"\"\n",
    "Determine if the student answer is correct or not.\n",
    "Question: \n",
    "Rent costs $1,000 per month\n",
    "Contract for maintenance that will cost \\ \n",
    "me a shop  $500.\n",
    "Equipment purchase will cost $5,000\n",
    "Monthly utility bills amount to $500\n",
    "Staff wages are $2,000 per month\n",
    "What will be the total cost for the first three months of operation\\\n",
    "as a function of the number of months?\n",
    "\n",
    "Student's Solution:\n",
    "\n",
    "\n",
    "Total cost = (Rent cost + Equipment cost + Utility bills + Staff wages) * Number of months\n",
    "Total cost = (1,000 + 5,000 + 500 + 2,000) * 3\n",
    "Total cost = 8,500 * 3\n",
    "Total cost = $25,500\n",
    "\"\"\"\n",
    "\n",
    "output = get_output(prompt)\n",
    "print(output)"
   ]
  },
  {
   "cell_type": "code",
   "execution_count": 14,
   "id": "09e6f55d",
   "metadata": {},
   "outputs": [
    {
     "name": "stdout",
     "output_type": "stream",
     "text": [
      "Actual Solution:\n",
      "\n",
      "To calculate the total cost for the first three months of operation, we need to multiply the sum of the monthly costs by the number of months.\n",
      "\n",
      "Rent cost per month = $1,000\n",
      "Contract for maintenance = $500\n",
      "Equipment purchase = $5,000\n",
      "Monthly utility bills = $500\n",
      "Staff wages per month = $2,000\n",
      "\n",
      "Total cost for the first three months = (Rent cost + Contract for maintenance + Equipment purchase + Monthly utility bills + Staff wages) * Number of months\n",
      "Total cost for the first three months = (1,000 + 500 + 5,000 + 500 + 2,000) * 3\n",
      "Total cost for the first three months = 9,000 * 3\n",
      "Total cost for the first three months = $27,000\n",
      "\n",
      "Is the student's solution the same as the actual solution just calculated:\n",
      "No\n",
      "\n",
      "Student grade:\n",
      "Incorrect\n"
     ]
    }
   ],
   "source": [
    "prompt = f\"\"\"\n",
    "Your task is to determine if the student's solution \\\n",
    "is correct or not.\n",
    "To solve the problem do the following:\n",
    "- First, work out your own solution to the problem. \n",
    "- Then compare your solution to the student's solution \\ \n",
    "and evaluate if the student's solution is correct or not. \n",
    "Don't decide if the student's solution is correct until \n",
    "you have done the problem yourself.\n",
    "\n",
    "Use the following format:\n",
    "Question:\n",
    "```\n",
    "question here\n",
    "```\n",
    "Student's solution:\n",
    "```\n",
    "student's solution here\n",
    "```\n",
    "Actual solution:\n",
    "```\n",
    "steps to work out the solution and your solution here\n",
    "```\n",
    "Is the student's solution the same as actual solution \\\n",
    "just calculated:\n",
    "```\n",
    "yes or no\n",
    "```\n",
    "Student grade:\n",
    "```\n",
    "correct or incorrect\n",
    "```\n",
    "\n",
    "Question:\n",
    "```\n",
    "Determine if the student answer is correct or not.\n",
    "Question: \n",
    "Rent costs $1,000 per month\n",
    "Contract for maintenance that will cost \\ \n",
    "me a shop  $500.\n",
    "Equipment purchase will cost $5,000\n",
    "Monthly utility bills amount to $500\n",
    "Staff wages are $2,000 per month\n",
    "What will be the total cost for the first three months of operation as a function of the number of months?\n",
    "\n",
    "Student's Solution:\n",
    "\n",
    "\n",
    "Total cost = (Rent cost + Equipment cost + Utility bills + Staff wages) * Number of months\n",
    "Total cost = (1,000 + 5,000 + 500 + 2,000) * 3\n",
    "Total cost = 8,500 * 3\n",
    "Total cost = $25,500\n",
    "\"\"\"\n",
    "\n",
    "output = get_output(prompt)\n",
    "print(output)"
   ]
  },
  {
   "cell_type": "code",
   "execution_count": 15,
   "id": "f990e614",
   "metadata": {},
   "outputs": [
    {
     "data": {
      "text/plain": [
       "'MRF (Madras Rubber Factory) is a well-known Indian tire manufacturing company that has been in operation since 1946. While MRF is primarily known for its tire production, it also ventured into the automobile industry by manufacturing cars.\\n\\nMRF manufactured cars are known for their quality, performance, and reliability. The company has produced a range of vehicles, including sedans, hatchbacks, and SUVs. MRF cars are designed to cater to the needs and preferences of Indian consumers, with a focus on fuel efficiency, comfort, and affordability.\\n\\nOne of the notable MRF car models is the MRF ZVTS, which is a compact hatchback. It offers a spacious interior, good fuel efficiency, and a smooth driving experience. Another popular model is the MRF Wanderer, an SUV that provides a comfortable ride, ample storage space, and advanced safety features.\\n\\nMRF cars are manufactured using advanced technology and undergo rigorous testing to ensure durability and performance. The company also emphasizes safety by incorporating features like airbags, ABS (Anti-lock Braking System), and EBD (Electronic Brakeforce Distribution) in their vehicles.\\n\\nIn addition to manufacturing cars, MRF also provides after-sales services, including maintenance, repairs, and spare parts. The company has a wide network of service centers across India to cater to the needs of its customers.\\n\\nOverall, MRF manufactured cars are known for their quality, reliability, and value for money. With a focus on customer satisfaction and continuous innovation, MRF aims to provide Indian consumers with vehicles that meet their expectations and requirements.'"
      ]
     },
     "execution_count": 15,
     "metadata": {},
     "output_type": "execute_result"
    }
   ],
   "source": [
    "prompt = f\"\"\"\n",
    "Tell me about MRF manufactured cars\n",
    "\"\"\"\n",
    "output = get_output(prompt)\n",
    "output"
   ]
  }
 ],
 "metadata": {
  "kernelspec": {
   "display_name": "Python 3 (ipykernel)",
   "language": "python",
   "name": "python3"
  },
  "language_info": {
   "codemirror_mode": {
    "name": "ipython",
    "version": 3
   },
   "file_extension": ".py",
   "mimetype": "text/x-python",
   "name": "python",
   "nbconvert_exporter": "python",
   "pygments_lexer": "ipython3",
   "version": "3.9.7"
  }
 },
 "nbformat": 4,
 "nbformat_minor": 5
}
